{
 "cells": [
  {
   "cell_type": "raw",
   "id": "172222b9",
   "metadata": {},
   "source": [
    "1. Assign the value 7 to the variable guess_me. Then, write the conditional tests (if, else, and elif) to\n",
    "   print the string \"too low\" if guess_me is less than 7, \"too high\" if greater than 7, and \"just right\" if equalto 7."
   ]
  },
  {
   "cell_type": "code",
   "execution_count": 1,
   "id": "f0bc27f6",
   "metadata": {},
   "outputs": [
    {
     "name": "stdout",
     "output_type": "stream",
     "text": [
      "too Low\n",
      "too High\n",
      "just Right\n"
     ]
    }
   ],
   "source": [
    "def guess_me(guess_me):\n",
    "    \n",
    "    if guess_me < 7:\n",
    "        print('too Low')\n",
    "    elif guess_me > 7:\n",
    "        print('too High')\n",
    "    else:\n",
    "        print('just Right')\n",
    "\n",
    "guess_me(guess_me=3)\n",
    "guess_me(guess_me=11)\n",
    "guess_me(guess_me=7)"
   ]
  },
  {
   "cell_type": "raw",
   "id": "13d841e2",
   "metadata": {},
   "source": [
    "2. Assign the value 7 to the variable guess_me and the value 1 to the variable start. Write a while\n",
    "   loop that compares start with guess_me. Print too low if start is less than guess me. If start equals\n",
    "   guess_me, print \"found it!\" and exit the loop. If start is greater than guess_me, print \"oops\" and exit the loop.      Increment start at the end of the loop. "
   ]
  },
  {
   "cell_type": "code",
   "execution_count": 2,
   "id": "f7664406",
   "metadata": {},
   "outputs": [
    {
     "name": "stdout",
     "output_type": "stream",
     "text": [
      "too  low\n",
      "too  low\n",
      "too  low\n",
      "too  low\n",
      "too  low\n",
      "too  low\n",
      "found it!\n"
     ]
    }
   ],
   "source": [
    "guess_me=7\n",
    "start =1\n",
    "\n",
    "while True:\n",
    "    \n",
    "    if start < guess_me :\n",
    "        print(\"too  low\")\n",
    "    elif start == guess_me:\n",
    "        print(\"found it!\")\n",
    "        break\n",
    "            \n",
    "    else:\n",
    "        print(\"oops\")\n",
    "        break\n",
    "            \n",
    "    start+=1"
   ]
  },
  {
   "cell_type": "raw",
   "id": "10498c03",
   "metadata": {},
   "source": [
    "3. Print the following values of the list [3, 2, 1, 0] using a for loop."
   ]
  },
  {
   "cell_type": "code",
   "execution_count": 3,
   "id": "4909eab0",
   "metadata": {},
   "outputs": [
    {
     "name": "stdout",
     "output_type": "stream",
     "text": [
      "3\n",
      "2\n",
      "1\n",
      "0\n"
     ]
    }
   ],
   "source": [
    "list =[3,2,1,0]\n",
    "for i in list:\n",
    "    print(i)"
   ]
  },
  {
   "cell_type": "raw",
   "id": "ce18473b",
   "metadata": {},
   "source": [
    "4. Use a list comprehension to make a list of the even numbers in range(10)"
   ]
  },
  {
   "cell_type": "code",
   "execution_count": 4,
   "id": "d3044f5c",
   "metadata": {},
   "outputs": [
    {
     "name": "stdout",
     "output_type": "stream",
     "text": [
      "[0, 2, 4, 6, 8, 10]\n"
     ]
    }
   ],
   "source": [
    "print([i for i in range(10+1) if i%2==0 ])"
   ]
  },
  {
   "cell_type": "raw",
   "id": "450d00b6",
   "metadata": {},
   "source": [
    "5. Use a dictionary comprehension to create the dictionary squares. Use range(10) to return the\n",
    "   keys, and use the square of each key as its value."
   ]
  },
  {
   "cell_type": "code",
   "execution_count": 5,
   "id": "be553306",
   "metadata": {},
   "outputs": [
    {
     "name": "stdout",
     "output_type": "stream",
     "text": [
      "{0: 0, 1: 1, 2: 4, 3: 9, 4: 16, 5: 25, 6: 36, 7: 49, 8: 64, 9: 81}\n"
     ]
    }
   ],
   "source": [
    "print({i : (i**2) for i in range(10)})"
   ]
  },
  {
   "cell_type": "raw",
   "id": "96f071ae",
   "metadata": {},
   "source": [
    "6. Construct the set odd from the odd numbers in the range using a set comprehension (10)."
   ]
  },
  {
   "cell_type": "code",
   "execution_count": 6,
   "id": "1014fe7a",
   "metadata": {},
   "outputs": [
    {
     "name": "stdout",
     "output_type": "stream",
     "text": [
      "{1, 3, 5, 7, 9}\n"
     ]
    }
   ],
   "source": [
    "print({ i for i in range(10) if i%2 != 0})"
   ]
  },
  {
   "cell_type": "raw",
   "id": "d59ce256",
   "metadata": {},
   "source": [
    "7. Use a generator comprehension to return the string \"Got\" and a number for the numbers in\n",
    "   range(10). Iterate through this by using a for loop."
   ]
  },
  {
   "cell_type": "code",
   "execution_count": 7,
   "id": "46f9111e",
   "metadata": {},
   "outputs": [
    {
     "name": "stdout",
     "output_type": "stream",
     "text": [
      "Got_0, Got_1, Got_2, Got_3, Got_4, Got_5, Got_6, Got_7, Got_8, Got_9, "
     ]
    }
   ],
   "source": [
    "gen_com = ('Got_'+str(i) for i in range(10))\n",
    "\n",
    "for i in gen_com:\n",
    "    print(i, end= ', ')"
   ]
  },
  {
   "cell_type": "raw",
   "id": "8ad95ed1",
   "metadata": {},
   "source": [
    "8. Define a function called good that returns the list [\"Harry\", \"Ron\", \"Hermione\"]."
   ]
  },
  {
   "cell_type": "code",
   "execution_count": 8,
   "id": "e626d151",
   "metadata": {},
   "outputs": [
    {
     "name": "stdout",
     "output_type": "stream",
     "text": [
      "['Harry', 'Ron', 'Hermione']\n"
     ]
    }
   ],
   "source": [
    "def good():\n",
    "    l = [\"Harry\", \"Ron\", \"Hermione\"]\n",
    "    return l\n",
    "    \n",
    "print(good())"
   ]
  },
  {
   "cell_type": "raw",
   "id": "58f59f02",
   "metadata": {},
   "source": [
    "9. Define a generator function called get_odds that returns the odd numbers from range(10). Use a\n",
    "   for loop to find and print the third value returned."
   ]
  },
  {
   "cell_type": "code",
   "execution_count": 9,
   "id": "0695ad7f",
   "metadata": {},
   "outputs": [
    {
     "name": "stdout",
     "output_type": "stream",
     "text": [
      "5\n"
     ]
    }
   ],
   "source": [
    "def get_odds():\n",
    "    result = []\n",
    "    \n",
    "    for i in range(10):\n",
    "        if i%2 != 0:\n",
    "            result.append(i)\n",
    "    yield result\n",
    "\n",
    "print(next(get_odds())[2])"
   ]
  },
  {
   "cell_type": "raw",
   "id": "14aab7b3",
   "metadata": {},
   "source": [
    "10. Define an exception called OopsException. Raise this exception to see what happens. Then write\n",
    "    the code to catch this exception and print \"Caught an oops\"."
   ]
  },
  {
   "cell_type": "code",
   "execution_count": 10,
   "id": "618e93a5",
   "metadata": {},
   "outputs": [
    {
     "name": "stdout",
     "output_type": "stream",
     "text": [
      "Caught an Oops  \n"
     ]
    }
   ],
   "source": [
    "class OopsException(Exception):\n",
    "    pass\n",
    "\n",
    "def test(input):\n",
    "    if input < 0:\n",
    "        raise OopsException()\n",
    "try:\n",
    "    test(-1)\n",
    "except Exception as e:\n",
    "    \n",
    "    print('Caught an Oops ',e)"
   ]
  },
  {
   "cell_type": "raw",
   "id": "2d004fde",
   "metadata": {},
   "source": [
    "11. Use zip() to make a dictionary called movies that pairs these lists: titles = ['Creature of Habit',\n",
    "   'Crewel Fate'] and plots = ['A nun turns into a monster', 'A haunted yarn shop']."
   ]
  },
  {
   "cell_type": "code",
   "execution_count": 11,
   "id": "2d2d9214",
   "metadata": {},
   "outputs": [
    {
     "name": "stdout",
     "output_type": "stream",
     "text": [
      "{'Creature of Habit': 'A nun turns into a monster', 'Crewel Fate': 'A haunted yarn shop'}\n"
     ]
    }
   ],
   "source": [
    "titles = [\"Creature of Habit\", \"Crewel Fate\"]\n",
    "plots = [\"A nun turns into a monster\", \"A haunted yarn shop\"]\n",
    "\n",
    "output = dict(zip(titles,plots))\n",
    "print(output)"
   ]
  }
 ],
 "metadata": {
  "kernelspec": {
   "display_name": "Python 3 (ipykernel)",
   "language": "python",
   "name": "python3"
  },
  "language_info": {
   "codemirror_mode": {
    "name": "ipython",
    "version": 3
   },
   "file_extension": ".py",
   "mimetype": "text/x-python",
   "name": "python",
   "nbconvert_exporter": "python",
   "pygments_lexer": "ipython3",
   "version": "3.9.7"
  }
 },
 "nbformat": 4,
 "nbformat_minor": 5
}
