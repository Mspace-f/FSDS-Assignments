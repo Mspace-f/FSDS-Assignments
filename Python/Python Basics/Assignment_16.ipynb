{
 "cells": [
  {
   "cell_type": "raw",
   "id": "b43a3b49",
   "metadata": {},
   "source": [
    "1. Create a list called years_list, starting with the year of your birth, and each year thereafter until\n",
    "   the year of your fifth birthday. For example, if you were born in 1980. the list would be years_list =\n",
    "   [1980, 1981, 1982, 1983, 1984, 1985]."
   ]
  },
  {
   "cell_type": "code",
   "execution_count": 1,
   "id": "4a0cc3b3",
   "metadata": {},
   "outputs": [
    {
     "name": "stdout",
     "output_type": "stream",
     "text": [
      "[1995, 1996, 1997, 1998, 1999, 2000]\n"
     ]
    }
   ],
   "source": [
    "years_list= [ele for ele in range(1995, (1995+6))]\n",
    "print(years_list)"
   ]
  },
  {
   "cell_type": "raw",
   "id": "10270a49",
   "metadata": {},
   "source": [
    "2. In which year in years_list was your third birthday? Remember, you were 0 years of age for your\n",
    "   first year. "
   ]
  },
  {
   "cell_type": "code",
   "execution_count": 2,
   "id": "4c428b46",
   "metadata": {},
   "outputs": [
    {
     "data": {
      "text/plain": [
       "1998"
      ]
     },
     "execution_count": 2,
     "metadata": {},
     "output_type": "execute_result"
    }
   ],
   "source": [
    "years_list[3]"
   ]
  },
  {
   "cell_type": "raw",
   "id": "66aa0efb",
   "metadata": {},
   "source": [
    "3.In the years list, which year were you the oldest?"
   ]
  },
  {
   "cell_type": "code",
   "execution_count": 3,
   "id": "b966ffe0",
   "metadata": {},
   "outputs": [
    {
     "name": "stdout",
     "output_type": "stream",
     "text": [
      "2000\n"
     ]
    }
   ],
   "source": [
    "print(years_list[-1])"
   ]
  },
  {
   "cell_type": "raw",
   "id": "bba67b67",
   "metadata": {},
   "source": [
    "4. Make a list called things with these three strings as elements: \"mozzarella\", \"cinderella\", \"salmonella\"."
   ]
  },
  {
   "cell_type": "code",
   "execution_count": 4,
   "id": "aa556158",
   "metadata": {},
   "outputs": [
    {
     "name": "stdout",
     "output_type": "stream",
     "text": [
      "['mozzarella', 'cinderella', 'salmonella']\n"
     ]
    }
   ],
   "source": [
    "things = [ele for ele in ['mozzarella', 'cinderella', 'salmonella']]\n",
    "print(things)"
   ]
  },
  {
   "cell_type": "raw",
   "id": "4eb9cfea",
   "metadata": {},
   "source": [
    "5. Capitalize the element in things that refers to a person and then print the list. Did it change the\n",
    "   element in the list"
   ]
  },
  {
   "cell_type": "code",
   "execution_count": 5,
   "id": "ce1e594a",
   "metadata": {},
   "outputs": [
    {
     "name": "stdout",
     "output_type": "stream",
     "text": [
      "['mozzarella', 'Cinderella', 'salmonella']\n"
     ]
    }
   ],
   "source": [
    "for ele in range (len(things)):\n",
    "    if things[ele]== \"cinderella\":\n",
    "        things[ele]= things[ele].capitalize()\n",
    "print(things)"
   ]
  },
  {
   "cell_type": "raw",
   "id": "2db0b03a",
   "metadata": {},
   "source": [
    "6. Make a surprise list with the elements \"Groucho\", \"Chico\" and \"Harpo\"."
   ]
  },
  {
   "cell_type": "code",
   "execution_count": 6,
   "id": "bb9e1884",
   "metadata": {},
   "outputs": [
    {
     "name": "stdout",
     "output_type": "stream",
     "text": [
      "['Groucho', 'Chico', 'Harpo']\n"
     ]
    }
   ],
   "source": [
    "suprise_list = [\"Groucho\", \"Chico\", \"Harpo\"]\n",
    "print(suprise_list)"
   ]
  },
  {
   "cell_type": "raw",
   "id": "7cfaa38b",
   "metadata": {},
   "source": [
    "7. Lowercase the last element of the surprise list, reverse it, and then capitalize it."
   ]
  },
  {
   "cell_type": "code",
   "execution_count": 7,
   "id": "b4754653",
   "metadata": {},
   "outputs": [
    {
     "name": "stdout",
     "output_type": "stream",
     "text": [
      "Oprah\n"
     ]
    }
   ],
   "source": [
    "print(suprise_list[-1].lower()[::-1].capitalize())"
   ]
  },
  {
   "cell_type": "raw",
   "id": "8142b9c9",
   "metadata": {},
   "source": [
    "8. Make an English-to-French dictionary called e2f and print it. Here are your starter words: dog is\n",
    "   chien, cat is chat, and walrus is morse."
   ]
  },
  {
   "cell_type": "code",
   "execution_count": 8,
   "id": "f3e923a3",
   "metadata": {},
   "outputs": [
    {
     "name": "stdout",
     "output_type": "stream",
     "text": [
      "{'dog': 'chien', 'cat': 'chat', 'walrus': 'morse'}\n"
     ]
    }
   ],
   "source": [
    "e2f = {\"dog\": \"chien\", \"cat\": \"chat\", \"walrus\": \"morse\"}\n",
    "print(e2f)"
   ]
  },
  {
   "cell_type": "raw",
   "id": "7ffd93a7",
   "metadata": {},
   "source": [
    "9. Write the French word for walrus in your three-word dictionary e2f."
   ]
  },
  {
   "cell_type": "code",
   "execution_count": 9,
   "id": "4a02e63d",
   "metadata": {},
   "outputs": [
    {
     "name": "stdout",
     "output_type": "stream",
     "text": [
      "morse\n"
     ]
    }
   ],
   "source": [
    "print(e2f.get(\"walrus\"))"
   ]
  },
  {
   "cell_type": "raw",
   "id": "95750536",
   "metadata": {},
   "source": [
    "10. Make a French-to-English dictionary called f2e from e2f. Use the items method."
   ]
  },
  {
   "cell_type": "code",
   "execution_count": 10,
   "id": "c08c17e4",
   "metadata": {},
   "outputs": [
    {
     "name": "stdout",
     "output_type": "stream",
     "text": [
      "{'chien': 'dog', 'chat': 'cat', 'morse': 'walrus'}\n"
     ]
    }
   ],
   "source": [
    "f2e = dict([ele[::-1] for ele in e2f.items()])\n",
    "print(f2e)"
   ]
  },
  {
   "cell_type": "raw",
   "id": "c0093c70",
   "metadata": {},
   "source": [
    "11. Print the English version of the French word chien using f2e."
   ]
  },
  {
   "cell_type": "code",
   "execution_count": 11,
   "id": "10a1a0aa",
   "metadata": {},
   "outputs": [
    {
     "name": "stdout",
     "output_type": "stream",
     "text": [
      "dog\n"
     ]
    }
   ],
   "source": [
    "print(f2e.get(\"chien\"))"
   ]
  },
  {
   "cell_type": "raw",
   "id": "723a7079",
   "metadata": {},
   "source": [
    "12. Make and print a set of English words from the keys in e2f."
   ]
  },
  {
   "cell_type": "code",
   "execution_count": 12,
   "id": "dd57fae1",
   "metadata": {},
   "outputs": [
    {
     "name": "stdout",
     "output_type": "stream",
     "text": [
      "['dog', 'cat', 'walrus']\n"
     ]
    }
   ],
   "source": [
    "print(list(e2f.keys()))"
   ]
  },
  {
   "cell_type": "raw",
   "id": "100bb39c",
   "metadata": {},
   "source": [
    "13. Make a multilevel dictionary called life. Use these strings for the topmost keys: \"animals\", \"plants\",\n",
    "    and \"other\". Make the \"animals\" key refer to another dictionary with the keys \"cats\", \"octopi\", and\n",
    "   \"emus\". Make the \"cats\" key refer to a list of strings with the values \"Henri\", \"Grumpy\", and \"Lucy\".\n",
    "   Make all the other keys refer to empty dictionaries."
   ]
  },
  {
   "cell_type": "code",
   "execution_count": 13,
   "id": "26302f7d",
   "metadata": {},
   "outputs": [
    {
     "name": "stdout",
     "output_type": "stream",
     "text": [
      "{'animals': {'cats': ['Henri', 'Grumpy', 'Lucy'], 'octopi': {}, 'emus': {}}, 'plants': {}, 'other': {}}\n"
     ]
    }
   ],
   "source": [
    "life = {\n",
    "    'animals':{\n",
    "        'cats':['Henri','Grumpy','Lucy'],\n",
    "        'octopi':{},\n",
    "        'emus':{} },\n",
    "    'plants':{},\n",
    "    'other':{}\n",
    "}\n",
    "\n",
    "print(life)\n",
    "\n"
   ]
  },
  {
   "cell_type": "raw",
   "id": "574b9c6c",
   "metadata": {},
   "source": [
    "14. Print the top-level keys of life."
   ]
  },
  {
   "cell_type": "code",
   "execution_count": 14,
   "id": "b8afd8cf",
   "metadata": {},
   "outputs": [
    {
     "name": "stdout",
     "output_type": "stream",
     "text": [
      "['animals', 'plants', 'other']\n"
     ]
    }
   ],
   "source": [
    "print(list(life.keys()))"
   ]
  },
  {
   "cell_type": "raw",
   "id": "a0a0c0c4",
   "metadata": {},
   "source": [
    "15. Print the keys for life [\"animals\"]."
   ]
  },
  {
   "cell_type": "code",
   "execution_count": 15,
   "id": "45d7ccb8",
   "metadata": {},
   "outputs": [
    {
     "name": "stdout",
     "output_type": "stream",
     "text": [
      "['cats', 'octopi', 'emus']\n"
     ]
    }
   ],
   "source": [
    "print(list(life[\"animals\"].keys()))"
   ]
  },
  {
   "cell_type": "raw",
   "id": "c1977072",
   "metadata": {},
   "source": [
    "16. Print the values for life['animals']['cats']"
   ]
  },
  {
   "cell_type": "code",
   "execution_count": 16,
   "id": "3fb2a4f0",
   "metadata": {},
   "outputs": [
    {
     "name": "stdout",
     "output_type": "stream",
     "text": [
      "['Henri', 'Grumpy', 'Lucy']\n"
     ]
    }
   ],
   "source": [
    "print(life['animals']['cats'])"
   ]
  }
 ],
 "metadata": {
  "kernelspec": {
   "display_name": "Python 3 (ipykernel)",
   "language": "python",
   "name": "python3"
  },
  "language_info": {
   "codemirror_mode": {
    "name": "ipython",
    "version": 3
   },
   "file_extension": ".py",
   "mimetype": "text/x-python",
   "name": "python",
   "nbconvert_exporter": "python",
   "pygments_lexer": "ipython3",
   "version": "3.9.7"
  }
 },
 "nbformat": 4,
 "nbformat_minor": 5
}
