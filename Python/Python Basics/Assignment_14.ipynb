{
 "cells": [
  {
   "cell_type": "raw",
   "id": "d17b3cac",
   "metadata": {
    "raw_mimetype": "text/markdown"
   },
   "source": [
    "1. What does RGBA stand for?\n",
    "\n",
    "Answer:- RGBA stands for Red-Green-Blue-Alpha\n"
   ]
  },
  {
   "cell_type": "raw",
   "id": "b2ffae2d",
   "metadata": {},
   "source": [
    "2. From the Pillow module, how do you get the RGBA value of any images?\n",
    "\n",
    "Answer:- The RGBA value is a tuple of 4 integers, each ranging from  0 to 255 . So, to calculate that value of any image first we have to import image from PIL and then we have to calculate RGBA value of each colour of that image, by importing Imagecolor module  from PIL and calling a function ImageColor.getcolor(‘name of color’, ‘RGBA’)\n"
   ]
  },
  {
   "cell_type": "raw",
   "id": "a8b3a4b8",
   "metadata": {},
   "source": [
    "3. What is a box tuple, and how does it work?\n",
    "\n",
    "Answer:- Box tuple: It is a tuple value of four integers: Leftmost edge x-coordinate, Top edge               \n",
    "                                   y-coordinate, Right the width, Bottom the height  respectively.\n",
    "                 These four integer coordinates represent a rectangular region in an image .\n",
    "                 Like in cropping it is being used and created new image with the given coordinates.\n",
    "                 Box tuple includes  Left coordinate which starts at zero and increases going from left to right and                    the Top coordinate which starts at zero and increases going down the image and it does not include                    right and bottom coordinates while representing.\n"
   ]
  },
  {
   "cell_type": "raw",
   "id": "2c99db01",
   "metadata": {},
   "source": [
    "4. Use your image and load in notebook then, How can you find out the width and height of an Image object \n"
   ]
  },
  {
   "cell_type": "code",
   "execution_count": 3,
   "id": "2cd0d611",
   "metadata": {},
   "outputs": [
    {
     "name": "stdout",
     "output_type": "stream",
     "text": [
      "Width, Height -> (1180, 520)\n"
     ]
    }
   ],
   "source": [
    "#Example \n",
    "from PIL import Image\n",
    "pic = Image.open('rsuty spotted cats.png')\n",
    "print(f'Width, Height -> {pic.size}') "
   ]
  },
  {
   "cell_type": "raw",
   "id": "6df47aae",
   "metadata": {},
   "source": [
    "5. What method would you call to get Image object for a 100×100 image, excluding the lower-left quarter of it?"
   ]
  },
  {
   "cell_type": "code",
   "execution_count": 4,
   "id": "32088c76",
   "metadata": {},
   "outputs": [],
   "source": [
    "#example\n",
    "from PIL import Image\n",
    "img = Image.open('rsuty spotted cats.png')\n",
    "new_img = img.crop((0,50,50,50))"
   ]
  },
  {
   "cell_type": "raw",
   "id": "3d234d1d",
   "metadata": {},
   "source": [
    "6. After making changes to an Image object, how could you save it as an image file?"
   ]
  },
  {
   "cell_type": "code",
   "execution_count": 5,
   "id": "6b8c6c52",
   "metadata": {},
   "outputs": [],
   "source": [
    "#example\n",
    "from PIL import Image\n",
    "pic = Image.open('rsuty spotted cats.png')\n",
    "pic.save('rsuty spotted cats.png')"
   ]
  },
  {
   "cell_type": "raw",
   "id": "2726a96f",
   "metadata": {},
   "source": [
    "7. What module contains Pillow’s shape-drawing code?\n",
    "\n",
    "Answer:- Pillows ImageDraw module contains Shape drawing methods\n"
   ]
  },
  {
   "cell_type": "raw",
   "id": "8ea39ee9",
   "metadata": {},
   "source": [
    "8. Image objects do not have drawing methods. What kind of object does? How do you get this kind of object?\n",
    "Answer:- ImageDraw objects have shape-drawing methods such as point(), line(), or rectangle().They are returned by passing the Image object to the ImageDraw.Draw() function.\n"
   ]
  }
 ],
 "metadata": {
  "kernelspec": {
   "display_name": "Python 3 (ipykernel)",
   "language": "python",
   "name": "python3"
  },
  "language_info": {
   "codemirror_mode": {
    "name": "ipython",
    "version": 3
   },
   "file_extension": ".py",
   "mimetype": "text/x-python",
   "name": "python",
   "nbconvert_exporter": "python",
   "pygments_lexer": "ipython3",
   "version": "3.9.7"
  }
 },
 "nbformat": 4,
 "nbformat_minor": 5
}
