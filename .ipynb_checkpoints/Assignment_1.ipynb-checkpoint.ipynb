{
 "cells": [
  {
   "cell_type": "raw",
   "id": "c1da4d83",
   "metadata": {},
   "source": [
    "1. In the below elements which of them are values or an expression? eg:- values can be\n",
    "integer or string and expressions will be mathematical operators.\n",
    "*\n",
    "'hello'\n",
    "-87.8\n",
    "-\n",
    "/\n",
    "+\n",
    "6"
   ]
  },
  {
   "cell_type": "raw",
   "id": "351c6b4c",
   "metadata": {},
   "source": [
    "solution : Values     :- 'hello'\n",
    "                          -87.8\n",
    "                           6\n",
    "                           \n",
    "           Expressions :-  *\n",
    "                          -\n",
    "                          /\n",
    "                          +"
   ]
  },
  {
   "cell_type": "raw",
   "id": "263e6c1c",
   "metadata": {},
   "source": [
    "2. What is the difference between string and variable?"
   ]
  },
  {
   "cell_type": "raw",
   "id": "253ed1ff",
   "metadata": {},
   "source": [
    "solution: String is a datatype & it always defines in quotes \"\" or '' and\n",
    "          Variable is something which we can used to assign any string or any value.\n",
    "        \n",
    "          example:- a = \"ineuron\"\n",
    "                so here, a is a variable & \"ineuron\" is a string"
   ]
  },
  {
   "cell_type": "code",
   "execution_count": 1,
   "id": "7df590f0",
   "metadata": {},
   "outputs": [
    {
     "ename": "SyntaxError",
     "evalue": "invalid syntax (Temp/ipykernel_10076/1876010730.py, line 1)",
     "output_type": "error",
     "traceback": [
      "\u001b[1;36m  File \u001b[1;32m\"C:\\Users\\Madhuri\\AppData\\Local\\Temp/ipykernel_10076/1876010730.py\"\u001b[1;36m, line \u001b[1;32m1\u001b[0m\n\u001b[1;33m    3. Describe three different data types.\u001b[0m\n\u001b[1;37m       ^\u001b[0m\n\u001b[1;31mSyntaxError\u001b[0m\u001b[1;31m:\u001b[0m invalid syntax\n"
     ]
    }
   ],
   "source": [
    "3. Describe three different data types."
   ]
  },
  {
   "cell_type": "raw",
   "id": "74bb9b99",
   "metadata": {},
   "source": [
    "solution: 1. List :- It is a mutable datatype. It always defines in square bracket [].It can include any datatype as a                      items.Inside list we can perform indexing, slicing operations and also there are multiple inbuilt                      functions like- append(),pop(),extend(),etc. which we can use to solve our problem\n",
    "             example:- l = [21,32,\"ineuron\",(54,6,32,8),[5,6,3],{\"k1\":'space',\"k2\":'galaxy'},(2,2,3,4,3)]\n",
    "                     where, l = List\n",
    "                     \n",
    "         2. Dictionary :- It is also a mutable datatype. It always defines in curly brackets {}. It contain                                     information in key & value pair. It's indexing is based on keys.Here, Values can be anytype                           but keys should be certain type or unique. If same keys are used for different value, the                             latest value will override to previous.Dictionary also contain multiple inbuilt funnctions                             like- items(),keys(),value(),clear(),etc.\n",
    "            example:- d = {\"k1\":'space',\"k2\":'galaxy'}\n",
    "            \n",
    "         3. set :- It is a mutable datatype with unordered collection of data.It gives unique elements by deleting                        duplicate one. It always defines in curly braces {}. Though it is mutable but it can't kept mutable                    entities(like-list) inside it rather it allows inmutable entities (like-strings,Tuples).We can't                      perform indexing opertion in sets due to  it's unordered nature.\n",
    "            example:- s = {28,26,\"ineuron\",22,65,26,(5,6,3,2),22}"
   ]
  },
  {
   "cell_type": "raw",
   "id": "afe6365a",
   "metadata": {},
   "source": [
    "4. What is an expression made up of? What do all expressions do?"
   ]
  },
  {
   "cell_type": "raw",
   "id": "0d6774a2",
   "metadata": {},
   "source": [
    "solution: Generally, Expressions are made up of combination of different numbers, variables, constants & operators but           operators are very important part of expressions. They are of different types like- numerical(5+6-2/2*3),                   arithmatic(2x+3),boolean (True/False or 1/0) \n",
    "          Expressions gives the result in the form of values & it helps us to solve problems in a easy way.\n",
    "example :- (1) 45/5 = 9 , (2) 3x - 6 = 2 \n",
    "          Here, LHS is an expression & RHS is a value in both the examples"
   ]
  },
  {
   "cell_type": "raw",
   "id": "7e71d2a5",
   "metadata": {},
   "source": [
    "5. This assignment statements, like spam = 10. What is the difference between an\n",
    "expression and a statement?"
   ]
  },
  {
   "cell_type": "raw",
   "id": "d851b5b7",
   "metadata": {},
   "source": [
    "solution: Statements are some sort of instructions which will not necessarily gives result in the form of value like             here, (spam = 10) Value 10 is stores in the spam variable & statements are executed by complier Whereas,\n",
    "          In the expressions we get result in the form of values like- 12 + 3 * 2 = 18\n",
    "          so, expressions are part of statements & are evaluated by the complier."
   ]
  },
  {
   "cell_type": "raw",
   "id": "4530e59a",
   "metadata": {},
   "source": [
    "6. After running the following code, what does the variable bacon contain?\n",
    "bacon = 22\n",
    "bacon + 1"
   ]
  },
  {
   "cell_type": "raw",
   "id": "cf93f075",
   "metadata": {},
   "source": [
    "solution:- bacon contains 22"
   ]
  },
  {
   "cell_type": "raw",
   "id": "96d86bb7",
   "metadata": {},
   "source": [
    "7. What should the values of the following two terms be?\n",
    "'spam' + 'spamspam'\n",
    "'spam' * 3"
   ]
  },
  {
   "cell_type": "raw",
   "id": "7f029d59",
   "metadata": {},
   "source": [
    "solution:- Both expressions gives result to the string 'spamspamspam'"
   ]
  },
  {
   "cell_type": "raw",
   "id": "6576bd86",
   "metadata": {},
   "source": [
    "8. Why is eggs a valid variable name while 100 is invalid?"
   ]
  },
  {
   "cell_type": "raw",
   "id": "8662d6a3",
   "metadata": {},
   "source": [
    "solution:- because to get valid result of any exression we need to assign valid variable which begins with letter and            not number so, varibles can not begin with a nummber."
   ]
  },
  {
   "cell_type": "raw",
   "id": "dc939784",
   "metadata": {},
   "source": [
    "9. What three functions can be used to get the integer, floating-point number, or string\n",
    "version of a value?"
   ]
  },
  {
   "cell_type": "raw",
   "id": "0489978b",
   "metadata": {},
   "source": [
    "solution:- int(), float() & str() are the functions to get result in integer, floating-point, & string respectively of the value passed to them."
   ]
  },
  {
   "cell_type": "raw",
   "id": "24883a82",
   "metadata": {},
   "source": [
    "10. Why does this expression cause an error? How can you fix it?\n",
    "'I have eaten' + 99 + 'burritos'"
   ]
  },
  {
   "cell_type": "raw",
   "id": "d98309b8",
   "metadata": {},
   "source": [
    "solution:- The given expression causes an error because 99 is an integer & only strings can be concatenated to the                other strings. So to correct it we need to do typecasting of 99 to strig\n",
    "           'I have eaten' + str(99) + 'burritos'"
   ]
  },
  {
   "cell_type": "code",
   "execution_count": null,
   "id": "7c770027",
   "metadata": {},
   "outputs": [],
   "source": []
  }
 ],
 "metadata": {
  "kernelspec": {
   "display_name": "Python 3 (ipykernel)",
   "language": "python",
   "name": "python3"
  },
  "language_info": {
   "codemirror_mode": {
    "name": "ipython",
    "version": 3
   },
   "file_extension": ".py",
   "mimetype": "text/x-python",
   "name": "python",
   "nbconvert_exporter": "python",
   "pygments_lexer": "ipython3",
   "version": "3.9.7"
  }
 },
 "nbformat": 4,
 "nbformat_minor": 5
}
